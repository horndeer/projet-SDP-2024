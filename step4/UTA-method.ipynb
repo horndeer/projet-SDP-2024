{
 "cells": [
  {
   "cell_type": "code",
   "execution_count": 1,
   "metadata": {},
   "outputs": [],
   "source": [
    "# Modules de base\n",
    "import numpy as np\n",
    "import matplotlib.pyplot as plt\n",
    "%matplotlib inline\n",
    "\n",
    "# Module relatif à Gurobi\n",
    "import gurobipy as gp\n",
    "from gurobipy import GRB   "
   ]
  },
  {
   "cell_type": "markdown",
   "metadata": {},
   "source": [
    "# Classement\n",
    "\n",
    "On récupère les classements réalisé par l'agent."
   ]
  },
  {
   "cell_type": "code",
   "execution_count": 10,
   "metadata": {},
   "outputs": [
    {
     "data": {
      "text/plain": [
       "array([[ 83.72,   1.07,   1.  ],\n",
       "       [ 86.06,   1.12,   0.  ],\n",
       "       [ 89.66,   1.11,   1.  ],\n",
       "       [ 80.19,   1.23,   1.  ],\n",
       "       [ 79.23,   1.18,   2.  ],\n",
       "       [ 75.21,   1.4 ,   0.  ],\n",
       "       [ 83.31,   1.47,   0.  ],\n",
       "       [ 82.4 ,   1.41,   1.  ],\n",
       "       [ 81.47,   1.03,   4.  ],\n",
       "       [ 91.78,   1.09,   3.  ],\n",
       "       [103.32,   1.22,   0.  ],\n",
       "       [ 94.12,   1.31,   0.  ],\n",
       "       [117.86,   1.03,   2.  ],\n",
       "       [ 88.99,   1.26,   2.  ],\n",
       "       [ 76.44,   1.29,   3.  ],\n",
       "       [185.9 ,   1.1 ,   1.  ],\n",
       "       [ 91.25,   1.4 ,   2.  ],\n",
       "       [101.51,   1.18,   3.  ],\n",
       "       [118.23,   1.27,   1.  ],\n",
       "       [110.23,   1.33,   1.  ],\n",
       "       [139.7 ,   1.04,   3.  ],\n",
       "       [129.53,   1.17,   2.  ],\n",
       "       [129.12,   1.19,   2.  ],\n",
       "       [116.87,   1.17,   3.  ],\n",
       "       [180.9 ,   1.3 ,   1.  ],\n",
       "       [177.82,   1.31,   1.  ],\n",
       "       [144.78,   1.03,   4.  ],\n",
       "       [122.56,   1.49,   2.  ],\n",
       "       [ 94.06,   1.48,   4.  ],\n",
       "       [185.47,   1.08,   4.  ],\n",
       "       [133.14,   1.34,   2.  ],\n",
       "       [142.46,   1.13,   4.  ],\n",
       "       [126.08,   1.33,   3.  ],\n",
       "       [138.2 ,   1.33,   3.  ],\n",
       "       [173.61,   1.36,   3.  ],\n",
       "       [180.96,   1.38,   3.  ],\n",
       "       [180.55,   1.37,   3.  ],\n",
       "       [185.58,   1.29,   4.  ],\n",
       "       [161.02,   1.35,   4.  ]])"
      ]
     },
     "execution_count": 10,
     "metadata": {},
     "output_type": "execute_result"
    }
   ],
   "source": [
    "path = \"../data/Preferences.csv\"\n",
    "past_prefs = np.genfromtxt(path, delimiter=\";\", skip_header=1, dtype=str)\n",
    "past_prefs = np.char.replace(past_prefs, ',', '.').astype(float)\n",
    "past_prefs = past_prefs[:,1:]\n",
    "past_prefs"
   ]
  },
  {
   "cell_type": "markdown",
   "metadata": {},
   "source": [
    "# Modélisation\n",
    "\n",
    "## Modélisation du score\n",
    "\n",
    "On modélise le score sur les 3 dimenssions de la facçon suivante (sous la forme UTA):\n",
    "\n",
    "Le score est la somme des dimensions pondéré par un poids, pour chaque dimension le poid est une fonction linéaire par morceau, monotone, croissante et continue. qui vaut 0 pour la valeur minimale et 1 pour la valeur maximale. x etant un vecteur de taille 3, le score est donc donné par:\n",
    "\n",
    "$$\n",
    "score(x) = \\sum_{i=1}^{3} \\omega_i(x_i) \\times x_i\n",
    "$$\n",
    "\n",
    "avec \n",
    "\n",
    "$$\n",
    "\\omega_i(x_i) = \\omega_i^k + (x_i - x_i^k) \\times \\frac{\\omega_i^{k+1} - \n",
    "\\omega_i^k}{x_i^{k+1} - x_i^k} \\text{   avec   } x_i^k \\leq x_i \\leq x_i^{k+1}\n",
    "$$\n",
    "\n",
    "où :\n",
    "\n",
    "$$\n",
    "x_i^k = min_i + k \\frac{max_i - min_i}{L_i} \n",
    "$$\n",
    "\n",
    "et $\\omega_i^k$ est la valeur de $\\omega_i$ en $x_i^k$\n",
    "\n",
    "Les paramêtres à déterminer sont donc les $(w_i^k)_{i=1,2,3;\\ k \\in |[0,L_i]|}$\n",
    "\n",
    "\n",
    "Les valeurs minimales et maximales étant définis arbitraiement suivant les classements , on extrapole les fonction $\\omega_i$ pour les valeurs inférieures et supérieures à $x_i^0$ et $x_i^{L_i}$ par les valeurs constante $\\omega_i^0$ et $\\omega_i^{L_i}$.\n",
    "\n",
    "## Optimisation du score\n",
    "\n",
    "à partir du classement effectué par l'agent, on approxime le score pour chaque SR classé de la façon suivante (on dispose de n SR classé avec leur scores):\n",
    "\n",
    "$$\n",
    "H(x^t) =  score(x^t) + \\epsilon^t\n",
    "$$\n",
    "\n",
    "avec $\\epsilon^t$ une variable du problème d'optimisation.\n",
    "\n",
    "On fixe un seuil $\\delta = 1e^{-3}$ et on ajoute les contraintes suivante:\n",
    "\n",
    "$$\n",
    "\\forall t \\in [1,n-1],\\ H(x^t) \\leq H(x^{t+1})) - \\delta\n",
    "$$\n",
    "\n",
    "et on minimise la somme des $\\epsilon^t$. la fonction objectif est donc:\n",
    "\n",
    "$$\n",
    "\\min( \\sum_{t=1}^{n} \\epsilon^t )\n",
    "$$"
   ]
  },
  {
   "cell_type": "code",
   "execution_count": 58,
   "metadata": {},
   "outputs": [],
   "source": [
    "# calcul functions\n",
    "\n",
    "def score_i(x,W,S,i):\n",
    "    \"\"\"\n",
    "    Args:\n",
    "        x (float): value to calculate the score of\n",
    "        W (np.ndarray): X absice steps\n",
    "        S (np.ndarray): steps values on Y axis\n",
    "    \"\"\"\n",
    "    # find k such that W[i,k] <= x < W[i,k+1]\n",
    "    k = 0\n",
    "    if x < W[0,i]:\n",
    "        return S[0,i]\n",
    "    while x >= W[k+1,i]:\n",
    "        if k < len(W)-2:\n",
    "            k += 1\n",
    "        else:\n",
    "            return S[k+1,i]\n",
    "        \n",
    "    # linear interpolation\n",
    "    return S[k,i] + (S[k+1,i]-S[k,i])/(W[k+1,i]-W[k,i])*(x-W[k,i])\n",
    "\n",
    "def sum_scores(X,W,S):\n",
    "    # X_scores = np.zeros(len(X))\n",
    "    sm = 0\n",
    "    for i in range(len(X)):\n",
    "        sm+=score_i(X[i],W,S,i)\n",
    "    return sm"
   ]
  },
  {
   "cell_type": "code",
   "execution_count": 61,
   "metadata": {},
   "outputs": [
    {
     "name": "stdout",
     "output_type": "stream",
     "text": [
      "[75.21  1.03  0.  ] [185.9    1.49   4.  ]\n",
      "(5, 3) (5, 3)\n",
      "Warning for adding constraints: zero or small (< 1e-13) coefficients, ignored\n",
      "Optimal value: 0.0691596368581355\n",
      "Optimal solution:\n",
      "[[0.         0.         0.        ]\n",
      " [0.217524   0.08984907 0.0171532 ]\n",
      " [0.39212574 0.21370584 0.11297719]\n",
      " [0.39724128 0.28212163 0.20378082]\n",
      " [0.40129314 0.28212163 0.31658523]]\n"
     ]
    }
   ],
   "source": [
    "# optimization function\n",
    "\n",
    "number_criterion = past_prefs.shape[1]\n",
    "number_divisions = 5 # nombre parties linéaires par morceaux.\n",
    "\n",
    "epsilon = 1e-2\n",
    "\n",
    "model = gp.Model(\"Ranking\")\n",
    "\n",
    "mins = np.min(past_prefs, axis=0)\n",
    "maxs = np.max(past_prefs, axis=0)\n",
    "# mins = np.min(past, axis=0)\n",
    "# maxs = np.max(past, axis=0)\n",
    "print(mins,maxs)\n",
    "W = np.linspace(mins,maxs,number_divisions) # les steps sur l'axe des x\n",
    "\n",
    "# Variables de décision\n",
    "S  = model.addMVar((number_divisions,number_criterion), vtype=GRB.CONTINUOUS, name=\"S\")\n",
    "\n",
    "print(W.shape,S.shape)\n",
    "\n",
    "# boundaries\n",
    "sum_constr = model.addConstr(S[-1,:].sum() == 1)\n",
    "min_const = model.addConstr(np.min(S)>=0 )\n",
    "max_const = model.addConstr(np.max(S)<=1 )\n",
    "constr_0 = model.addConstr(S[0,:]==0)\n",
    "\n",
    "# monotonie\n",
    "for i in range(number_criterion):\n",
    "    for j in range(number_divisions-1):\n",
    "        model.addConstr(S[j,i] <= S[j+1,i])\n",
    "\n",
    "# Contraintes de classement\n",
    "n_past = len(past_prefs)\n",
    "eps = model.addVars(n_past,vtype=GRB.CONTINUOUS,name=\"eps\")\n",
    "for i in range(n_past):\n",
    "    model.addConstr(eps[i] >= 0)\n",
    "for i in range(n_past-1):\n",
    "    model.addConstr(sum_scores(past_prefs[i,:],W,S) + eps[i] <= sum_scores(past_prefs[i+1,:],W,S) + eps[i+1] - epsilon)\n",
    "\n",
    "\n",
    "model.setObjective(eps.sum(),GRB.MINIMIZE)\n",
    "\n",
    "model.setParam('OutputFlag', 0)\n",
    "model.update()\n",
    "\n",
    "model.optimize()\n",
    "\n",
    "print(\"Optimal value:\", model.objVal)\n",
    "\n",
    "print(\"Optimal solution:\")\n",
    "print(S.X)\n",
    "\n",
    "\n",
    "\n"
   ]
  },
  {
   "cell_type": "code",
   "execution_count": 60,
   "metadata": {},
   "outputs": [
    {
     "name": "stdout",
     "output_type": "stream",
     "text": [
      "0.0\n",
      "0.0\n",
      "0.0\n",
      "0.0\n",
      "0.0\n",
      "0.0\n",
      "0.0\n",
      "0.0\n",
      "0.0\n",
      "0.0\n",
      "0.0\n",
      "0.008812823970773598\n",
      "0.0\n",
      "0.0\n",
      "0.0\n",
      "0.0\n",
      "0.0\n",
      "0.0\n",
      "0.0\n",
      "0.02478141496166497\n",
      "0.0\n",
      "0.0\n",
      "0.0\n",
      "0.018028984932013548\n",
      "0.0\n",
      "0.0045017804191237465\n",
      "0.0\n",
      "0.0\n",
      "0.0\n",
      "0.0\n",
      "0.0\n",
      "0.0\n",
      "0.0\n",
      "0.0\n",
      "0.0\n",
      "0.0\n",
      "0.013034632574559946\n",
      "0.0\n",
      "0.0\n"
     ]
    }
   ],
   "source": [
    "for i in range(len(eps)):\n",
    "    print(eps[i].X)"
   ]
  },
  {
   "cell_type": "code",
   "execution_count": 62,
   "metadata": {},
   "outputs": [
    {
     "name": "stdout",
     "output_type": "stream",
     "text": [
      "0.11529922656210878\n",
      "0.15560477637459463\n",
      "0.1932433712298026\n",
      "0.23769463815883055\n",
      "0.2721216279742448\n",
      "0.2821216279742447\n",
      "0.3457929392802106\n",
      "0.3557929392802106\n",
      "0.36579293928021056\n",
      "0.3809096570234276\n",
      "0.3909096570234275\n",
      "0.39209683305265397\n",
      "0.42500285889548994\n",
      "0.43500285889548995\n",
      "0.4450028588954898\n",
      "0.47313707122737436\n",
      "0.5211837311306786\n",
      "0.5380606691163534\n",
      "0.5511684501636971\n",
      "0.5363870352020321\n",
      "0.605410066242784\n",
      "0.6154100662427842\n",
      "0.6343634477663144\n",
      "0.6263344628343008\n",
      "0.6552168588224078\n",
      "0.660715078403284\n",
      "0.7113406088209638\n",
      "0.7367794951911272\n",
      "0.7468802227287898\n",
      "0.7568802227287899\n",
      "0.7668802227287899\n",
      "0.7890413583782627\n",
      "0.8230214391127813\n",
      "0.8526700458910708\n",
      "0.8764722583517341\n",
      "0.8864722583517342\n",
      "0.8834376257771743\n",
      "0.9493849521373074\n",
      "0.9814840242238678\n"
     ]
    },
    {
     "data": {
      "text/plain": [
       "<matplotlib.collections.PathCollection at 0x1bc97dae9f0>"
      ]
     },
     "execution_count": 62,
     "metadata": {},
     "output_type": "execute_result"
    },
    {
     "data": {
      "image/png": "[encoded data removed]",
      "text/plain": [
       "<Figure size 1500x500 with 3 Axes>"
      ]
     },
     "metadata": {},
     "output_type": "display_data"
    },
    {
     "data": {
      "image/png": "[encoded data removed]",
      "text/plain": [
       "<Figure size 500x500 with 1 Axes>"
      ]
     },
     "metadata": {},
     "output_type": "display_data"
    }
   ],
   "source": [
    "import matplotlib.pyplot as plt\n",
    "\n",
    "\n",
    "\n",
    "\n",
    "fig,axs = plt.subplots(1,S.shape[1],figsize=(15,5))\n",
    "for i in range(S.shape[1]):\n",
    "    axs[i].plot(W[:,i],S.X[:,i])\n",
    "    axs[i].set_title(\"Criterion \"+str(i+1))\n",
    "for i in range(past_prefs.shape[0]):\n",
    "    axs[0].scatter(past_prefs[i,0],score_i(past_prefs[i,0],W,S.X,0),color=\"red\")\n",
    "    axs[1].scatter(past_prefs[i,1],score_i(past_prefs[i,1],W,S.X,1),color=\"red\")\n",
    "    axs[2].scatter(past_prefs[i,2],score_i(past_prefs[i,2],W,S.X,2),color=\"red\")\n",
    "    print(sum_scores(past_prefs[i,:],W,S.X))\n",
    "    \n",
    "\n",
    "    \n",
    "fig, ax = plt.subplots(1,1,figsize=(5,5))\n",
    "X = [ sum_scores(past_prefs[i,:],W,S.X) for i in range(past_prefs.shape[0])]\n",
    "Y = [ X[i] + eps[i].X for i in range(past_prefs.shape[0])]\n",
    "ax.scatter(X, Y ,color=\"red\")\n",
    "    \n",
    "# print(\"New projects\")\n",
    "# for i in range(P.shape[0]):\n",
    "#     axs[0].scatter(P[i,0],score_i(P[i,0],W,S.X,0),color=\"blue\")\n",
    "#     axs[1].scatter(P[i,1],score_i(P[i,1],W,S.X,1),color=\"blue\")\n",
    "#     axs[2].scatter(P[i,2],score_i(P[i,2],W,S.X,2),color=\"blue\")\n",
    "#     print(sum_scores(P[i,:],W,S.X))"
   ]
  },
  {
   "cell_type": "markdown",
   "metadata": {},
   "source": [
    "# Finale loss \n",
    "à utiliser pour opitmiser les changements à faire"
   ]
  },
  {
   "cell_type": "code",
   "execution_count": 53,
   "metadata": {},
   "outputs": [
    {
     "name": "stdout",
     "output_type": "stream",
     "text": [
      "S : \n",
      " [[0.         0.         0.        ]\n",
      " [0.217524   0.08984907 0.0171532 ]\n",
      " [0.39212574 0.21370584 0.11297719]\n",
      " [0.39724128 0.28212163 0.20378082]\n",
      " [0.40129314 0.28212163 0.31658523]]\n",
      "W : \n",
      " [[ 75.21     1.03     0.    ]\n",
      " [102.8825   1.145    1.    ]\n",
      " [130.555    1.26     2.    ]\n",
      " [158.2275   1.375    3.    ]\n",
      " [185.9      1.49     4.    ]]\n"
     ]
    }
   ],
   "source": [
    "print(\"S : \\n\",S.X)\n",
    "print(\"W : \\n\",W)"
   ]
  },
  {
   "cell_type": "code",
   "execution_count": null,
   "metadata": {},
   "outputs": [],
   "source": [
    "Sfin = S.X\n",
    "Wfin = W\n",
    "\n",
    "loss = lambda x: sum_scores(x,W,S)"
   ]
  }
 ],
 "metadata": {
  "kernelspec": {
   "display_name": "venv",
   "language": "python",
   "name": "python3"
  },
  "language_info": {
   "codemirror_mode": {
    "name": "ipython",
    "version": 3
   },
   "file_extension": ".py",
   "mimetype": "text/x-python",
   "name": "python",
   "nbconvert_exporter": "python",
   "pygments_lexer": "ipython3",
   "version": "3.12.4"
  }
 },
 "nbformat": 4,
 "nbformat_minor": 2
}
