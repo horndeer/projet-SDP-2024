{
 "cells": [
  {
   "cell_type": "code",
   "execution_count": 1,
   "metadata": {},
   "outputs": [
    {
     "name": "stdout",
     "output_type": "stream",
     "text": [
      "Requirement already satisfied: gurobipy in c:\\users\\gaeta\\documents\\projects\\tp_sdp\\venv\\lib\\site-packages (12.0.0)\n"
     ]
    },
    {
     "name": "stderr",
     "output_type": "stream",
     "text": [
      "\n",
      "[notice] A new release of pip is available: 24.0 -> 24.3.1\n",
      "[notice] To update, run: python.exe -m pip install --upgrade pip\n"
     ]
    }
   ],
   "source": [
    "! pip install gurobipy"
   ]
  },
  {
   "cell_type": "code",
   "execution_count": 2,
   "metadata": {},
   "outputs": [],
   "source": [
    "from gurobipy import *\n",
    "import pandas as pd\n",
    "import numpy as np"
   ]
  },
  {
   "cell_type": "markdown",
   "metadata": {},
   "source": [
    "# Minimisons la disruption\n",
    "\n",
    "La disruption sera définie comme la somme des nouveaux workloads pour les SR (pas sortants)\n",
    "\n",
    "## V1 : la disruption totale"
   ]
  },
  {
   "cell_type": "code",
   "execution_count": 3,
   "metadata": {},
   "outputs": [
    {
     "name": "stdout",
     "output_type": "stream",
     "text": [
      "{1: 0.1609, 2: 0.1164, 3: 0.1026, 4: 0.1516, 5: 0.0939, 6: 0.132, 7: 0.0687, 8: 0.093, 9: 0.2116, 10: 0.2529, 11: 0.0868, 12: 0.0828, 13: 0.0975, 14: 0.8177, 15: 0.4115, 16: 0.3795, 17: 0.071, 18: 0.0427, 19: 0.1043, 20: 0.0997, 21: 0.1698, 22: 0.2531}\n",
      "[1, 2, 3, 4, 5, 6, 7, 8, 9, 10, 11, 12, 13, 14, 15, 16, 17, 18, 19, 20, 21, 22]\n"
     ]
    }
   ],
   "source": [
    "initial_bricks = {\n",
    "    0: {'center_brick': 4, 'assigned_bricks': [4, 5, 6, 7, 8, 15]},\n",
    "    1 : {'center_brick': 14, 'assigned_bricks': [10, 11, 12, 13, 14]},\n",
    "    2 : {'center_brick': 16, 'assigned_bricks': [9, 16, 17, 18]},\n",
    "    3 : {'center_brick': 22, 'assigned_bricks': [1, 2, 3, 19, 20, 21, 22]}\n",
    "}\n",
    "\n",
    "\n",
    "# Read the CSV file\n",
    "bricks_df = pd.read_csv('bricks_index_values.csv')\n",
    "\n",
    "# Extract bricks and their index values\n",
    "bricks = bricks_df['brick'].tolist()\n",
    "index_values = bricks_df['index_value'].tolist()\n",
    "\n",
    "brick_values = dict(zip(bricks, index_values))\n",
    "print(brick_values)\n",
    "print(bricks)\n"
   ]
  },
  {
   "cell_type": "code",
   "execution_count": 4,
   "metadata": {},
   "outputs": [],
   "source": [
    "def mono_disruptive(bricks, index_values, initial_bricks, workload_range= [0.8, 1.2]):\n",
    "    # Number of bricks and groups\n",
    "    num_bricks = len(bricks)\n",
    "    num_groups = len(initial_bricks)\n",
    "\n",
    "    # Create a new model\n",
    "    m = Model(\"BrickGrouping\")\n",
    "\n",
    "    # Create variables: x[i, j] = 1 if brick i-1 is assigned to group j, 0 otherwise\n",
    "    x = m.addVars(num_bricks, num_groups, vtype=GRB.BINARY, name=\"x\")\n",
    "\n",
    "    # Add constraints: each brick must be assigned to exactly one group\n",
    "    for i in range(num_bricks):\n",
    "        m.addConstr(quicksum(x[i, j] for j in range(num_groups)) == 1)\n",
    "\n",
    "    # Add constraints: the sum of index values in each group must be between 0.8 and 1.2\n",
    "    for j in range(num_groups):\n",
    "        # in index values, the brick i has the index value [i - 1], same for x[i, j]\n",
    "        m.addConstr(quicksum(index_values[i] * x[i, j] for i in range(num_bricks)) >= workload_range[0])\n",
    "        m.addConstr(quicksum(index_values[i] * x[i, j] for i in range(num_bricks)) <= workload_range[1])\n",
    "\n",
    "    # Minimize the total change of assigned bricks \n",
    "    total_change = quicksum((index_values[brick] * (1 - x[brick, group])) for group in initial_bricks for brick in range(num_bricks) if brick+1 in initial_bricks[group]['assigned_bricks'])\n",
    "    m.setObjective(total_change, GRB.MINIMIZE)\n",
    "\n",
    "    m.params.outputflag = 0\n",
    "    \n",
    "    # Optimize the model\n",
    "    m.optimize()\n",
    "    \n",
    "\n",
    "    # Extract the solution\n",
    "    groups = [[] for _ in range(num_groups)]\n",
    "    for i in range(num_bricks):\n",
    "        for j in range(num_groups):\n",
    "            if x[i, j].x > 0.5:\n",
    "                groups[j].append(i+1)\n",
    "    return groups, total_change.getValue()"
   ]
  },
  {
   "cell_type": "code",
   "execution_count": 5,
   "metadata": {},
   "outputs": [
    {
     "name": "stdout",
     "output_type": "stream",
     "text": [
      "Set parameter Username\n",
      "Set parameter LicenseID to value 2601819\n",
      "Academic license - for non-commercial use only - expires 2025-12-18\n",
      "Group 1: [4, 5, 6, 7, 8, 15]\n",
      "Group 2: [10, 13, 14]\n",
      "Group 3: [9, 11, 12, 16, 17, 18]\n",
      "Group 4: [1, 2, 3, 19, 20, 21, 22]\n"
     ]
    }
   ],
   "source": [
    "# Result of optimization\n",
    "\n",
    "final_groups, change_sum = mono_disruptive(bricks, index_values, initial_bricks)\n",
    "\n",
    "num_groups = len(final_groups)\n",
    "\n",
    "# Print the groups\n",
    "for j in range(num_groups):\n",
    "    print(f\"Group {j+1}: {final_groups[j]}\")"
   ]
  },
  {
   "cell_type": "markdown",
   "metadata": {},
   "source": [
    "### Fonctions pour montrer les solutions"
   ]
  },
  {
   "cell_type": "code",
   "execution_count": 6,
   "metadata": {},
   "outputs": [],
   "source": [
    "def show_load_change(final_groups, brick_values):\n",
    "    # Calculate and print the brick load of each group\n",
    "    for j in range(len(final_groups)):\n",
    "        brick_load = sum(brick_values[brick] for brick in final_groups[j])\n",
    "        print(f\"Group {j+1} brick load: {brick_load}\")\n",
    "    print(f\"Total change in brick values: {change_sum}\")\n",
    "\n",
    "def show_brick_changes(initial_bricks, final_groups, bricks):\n",
    "    # Create a dictionary to map each brick to its initial group\n",
    "    initial_group_map = {}\n",
    "    for group, data in initial_bricks.items():\n",
    "        for brick in data['assigned_bricks']:\n",
    "            initial_group_map[brick] = group\n",
    "\n",
    "    # Create a dictionary to map each brick to its final group\n",
    "    final_group_map = {}\n",
    "    for group, bricks_in_group in enumerate(final_groups):\n",
    "        for brick in bricks_in_group:\n",
    "            final_group_map[brick] = group\n",
    "\n",
    "    # Compare the initial and final groups for each brick\n",
    "    for brick in bricks:\n",
    "        initial_group = initial_group_map.get(brick)\n",
    "        final_group = final_group_map.get(brick)\n",
    "        if initial_group != final_group:\n",
    "            print(f\"Brick {brick} has changed from Group {initial_group + 1} to Group {final_group + 1}\")\n"
   ]
  },
  {
   "cell_type": "code",
   "execution_count": 7,
   "metadata": {},
   "outputs": [
    {
     "name": "stdout",
     "output_type": "stream",
     "text": [
      "Group 1 brick load: 0.9507\n",
      "Group 2 brick load: 1.1681\n",
      "Group 3 brick load: 0.8744000000000001\n",
      "Group 4 brick load: 1.0068\n",
      "Total change in brick values: 0.1695999999999988\n"
     ]
    }
   ],
   "source": [
    "show_load_change(final_groups, brick_values)"
   ]
  },
  {
   "cell_type": "code",
   "execution_count": 8,
   "metadata": {},
   "outputs": [],
   "source": [
    "# # Calculate and print the brick value change of each group\n",
    "# for j in range(num_groups):\n",
    "#     initial_value = sum(brick_values[brick] for brick in initial_bricks[j]['assigned_bricks'])\n",
    "#     optimized_value = sum(brick_values[brick] for brick in final_groups[j])\n",
    "#     value_change = optimized_value - initial_value\n",
    "#     print(f\"Group {j+1} brick value change: {value_change}\")\n",
    "\n",
    "#     # Calculate the sum of the values of the bricks that are newly here\n",
    "#     new_bricks_value = sum(brick_values[brick] for brick in final_groups[j] if brick not in initial_bricks[j]['assigned_bricks'])\n",
    "#     print(f\"Group {j+1} new bricks value: {new_bricks_value}\")\n",
    "\n",
    "# # Print which brick has changed from where to where\n",
    "# for i in range(4):\n",
    "#     initial_group = next((group for group in initial_bricks if bricks[i] in initial_bricks[group]['assigned_bricks']), None)\n",
    "#     optimized_group = next((j for j in range(num_groups) if x[i, j].x > 0.5), None)\n",
    "#     if initial_group is not None and optimized_group is not None and initial_group != optimized_group:\n",
    "#         print(f\"Brick {bricks[i]} has changed from Group {initial_group+1} to Group {optimized_group+1}\")"
   ]
  },
  {
   "cell_type": "markdown",
   "metadata": {},
   "source": [
    "## V2 : disruption minimale par RP"
   ]
  },
  {
   "cell_type": "code",
   "execution_count": 9,
   "metadata": {},
   "outputs": [],
   "source": [
    "def minimize_max_new_brick_value(bricks, index_values, initial_bricks, workload_range=[0.8, 1.2]):\n",
    "    \"\"\"\n",
    "    Bricks : list of brick indexes\n",
    "    index_values : list of index_value, 1 by brick\n",
    "    initial_bricks : dict of initial groups, with center_brick and assigned_bricks\n",
    "    \"\"\"\n",
    "    # Number of bricks and groups\n",
    "    num_bricks = len(bricks)\n",
    "    num_groups = len(initial_bricks)\n",
    "\n",
    "    # Create a new model\n",
    "    m = Model(\"BrickGrouping\")\n",
    "\n",
    "    # Create variables: x[i, j] = 1 if brick i-1 is assigned to group j, 0 otherwise\n",
    "    x = m.addVars(num_bricks, num_groups, vtype=GRB.BINARY, name=\"x\")\n",
    "\n",
    "    # Create a variable for the maximum new brick value\n",
    "    max_new_value = m.addVar(vtype=GRB.CONTINUOUS, name=\"max_new_value\")\n",
    "\n",
    "    # Add constraints: each brick must be assigned to exactly one group\n",
    "    for i in range(num_bricks):\n",
    "        m.addConstr(quicksum(x[i, j] for j in range(num_groups)) == 1)\n",
    "\n",
    "    # Add constraints: the sum of index values in each group must be between 0.8 and 1.2\n",
    "    for j in range(num_groups):\n",
    "        m.addConstr(quicksum(index_values[i] * x[i, j] for i in range(num_bricks)) >= workload_range[0])\n",
    "        m.addConstr(quicksum(index_values[i] * x[i, j] for i in range(num_bricks)) <= workload_range[1])\n",
    "\n",
    "    # Add constraints to ensure max_new_value is greater than or equal to the new brick value for each group\n",
    "    for j in range(num_groups):\n",
    "        new_brick_value = quicksum(index_values[brick] * x[brick, j] for brick in range(num_bricks) if brick + 1 not in initial_bricks[j]['assigned_bricks'])\n",
    "        m.addConstr(max_new_value >= new_brick_value)\n",
    "\n",
    "    # Minimize the maximum new brick value\n",
    "    m.setObjective(max_new_value, GRB.MINIMIZE)\n",
    "    \n",
    "    m.params.outputflag = 0\n",
    "\n",
    "    # Optimize the model\n",
    "    m.optimize()\n",
    "\n",
    "    # Extract the solution\n",
    "    groups = [[] for _ in range(num_groups)]\n",
    "    for i in range(num_bricks):\n",
    "        for j in range(num_groups):\n",
    "            if x[i, j].x > 0.5:\n",
    "                groups[j].append(i + 1)\n",
    "    return groups, max_new_value.x\n"
   ]
  },
  {
   "cell_type": "code",
   "execution_count": 10,
   "metadata": {},
   "outputs": [],
   "source": [
    "min_max_group, max_change = minimize_max_new_brick_value(bricks, index_values, initial_bricks)"
   ]
  },
  {
   "cell_type": "code",
   "execution_count": 11,
   "metadata": {},
   "outputs": [
    {
     "name": "stdout",
     "output_type": "stream",
     "text": [
      "Group 1 brick load: 0.9507\n",
      "Group 2 brick load: 1.1574\n",
      "Group 3 brick load: 0.8023\n",
      "Group 4 brick load: 1.0896\n",
      "Total change in brick values: 0.1695999999999988\n"
     ]
    }
   ],
   "source": [
    "show_load_change(min_max_group, brick_values)"
   ]
  },
  {
   "cell_type": "code",
   "execution_count": 12,
   "metadata": {},
   "outputs": [
    {
     "name": "stdout",
     "output_type": "stream",
     "text": [
      "Brick 12 has changed from Group 2 to Group 4\n",
      "Brick 13 has changed from Group 2 to Group 3\n"
     ]
    }
   ],
   "source": [
    "# Example usage\n",
    "show_brick_changes(initial_bricks, min_max_group, bricks)"
   ]
  },
  {
   "cell_type": "code",
   "execution_count": 13,
   "metadata": {},
   "outputs": [
    {
     "name": "stdout",
     "output_type": "stream",
     "text": [
      "Brick 11 has changed from Group 2 to Group 3\n",
      "Brick 12 has changed from Group 2 to Group 3\n"
     ]
    }
   ],
   "source": [
    "show_brick_changes(initial_bricks, final_groups, bricks)"
   ]
  },
  {
   "cell_type": "markdown",
   "metadata": {},
   "source": [
    "# Minimisons la distance\n",
    "\n",
    "## Minimisation de la distance par RP"
   ]
  },
  {
   "cell_type": "code",
   "execution_count": 14,
   "metadata": {},
   "outputs": [
    {
     "name": "stdout",
     "output_type": "stream",
     "text": [
      "ditance_to_rp shape: (4, 22)\n",
      "brick_loads shape: (22, 1)\n"
     ]
    }
   ],
   "source": [
    "bricks_df = pd.read_csv('bricks_index_values.csv',index_col=0)\n",
    "bricks_loads = bricks_df.to_numpy() # initial_values\n",
    "\n",
    "distances_to_rp = pd.read_csv('brick_rp_distances.csv', index_col=0)\n",
    "distances_to_rp = distances_to_rp.to_numpy().T\n",
    "print(\"ditance_to_rp shape:\",distances_to_rp.shape)\n",
    "print(\"brick_loads shape:\",bricks_loads.shape)"
   ]
  },
  {
   "cell_type": "code",
   "execution_count": 15,
   "metadata": {},
   "outputs": [
    {
     "name": "stdout",
     "output_type": "stream",
     "text": [
      "\n",
      "Solution optimale trouvée :\n",
      "Valeur de z : 56.0\n",
      "\n",
      "Matrice x (assignations) :\n",
      "i=0: [1.0, -0.0, -0.0, -0.0]\n",
      "i=1: [-0.0, -0.0, 1.0, -0.0]\n",
      "i=2: [0.0, -0.0, -0.0, 1.0]\n",
      "i=3: [1.0, 0.0, -0.0, -0.0]\n",
      "i=4: [-0.0, -0.0, 1.0, -0.0]\n",
      "i=5: [1.0, 0.0, -0.0, -0.0]\n",
      "i=6: [0.0, -0.0, 1.0, -0.0]\n",
      "i=7: [-0.0, 1.0, -0.0, -0.0]\n",
      "i=8: [1.0, -0.0, -0.0, -0.0]\n",
      "i=9: [-0.0, -0.0, 1.0, -0.0]\n",
      "i=10: [-0.0, 0.0, 1.0, -0.0]\n",
      "i=11: [1.0, 0.0, -0.0, -0.0]\n",
      "i=12: [-0.0, 1.0, 0.0, -0.0]\n",
      "i=13: [-0.0, 0.0, -0.0, 1.0]\n",
      "i=14: [-0.0, 1.0, 0.0, -0.0]\n",
      "i=15: [-0.0, 0.0, 1.0, -0.0]\n",
      "i=16: [-0.0, -0.0, 1.0, -0.0]\n",
      "i=17: [-0.0, 1.0, -0.0, -0.0]\n",
      "i=18: [-0.0, 1.0, 0.0, -0.0]\n",
      "i=19: [-0.0, 1.0, 0.0, -0.0]\n",
      "i=20: [1.0, 0.0, -0.0, -0.0]\n",
      "i=21: [-0.0, -0.0, -0.0, 1.0]\n"
     ]
    }
   ],
   "source": [
    "def optimize_brick_distances(distance_to_rp, bricks_loads):\n",
    "    # Create a new model\n",
    "    m = Model(\"brick\")\n",
    "\n",
    "    # Create variables\n",
    "    x = m.addVars(22, 4, vtype=GRB.BINARY, name=\"x\")\n",
    "    # Set objective\n",
    "    z = m.addVar(name=\"z\")\n",
    "\n",
    "    m.update()\n",
    "    # Set constraints\n",
    "    m.addConstrs((sum(x[i, j] for j in range(4)) == 1 for i in range(22)))\n",
    "    m.addConstrs((sum(bricks_loads[i,0] * x[i, j] for i in range(22)) <= 1.2 for j in range(4)))\n",
    "    m.addConstrs((sum(bricks_loads[i,0] * x[i, j] for i in range(22)) >= 0.8 for j in range(4)))\n",
    "    m.addConstrs((z >= sum(distance_to_rp[j, i] * x[i, j] for i in range(22)) for j in range(4)))\n",
    "\n",
    "    # Set objective\n",
    "    m.setObjective(z, GRB.MINIMIZE)\n",
    "    \n",
    "    m.params.outputflag = 0\n",
    "\n",
    "    m.optimize()\n",
    "\n",
    "    # Print solution\n",
    "    if m.status == GRB.OPTIMAL:\n",
    "        print(\"\\nSolution optimale trouvée :\")\n",
    "        print(\"Valeur de z :\", z.X)\n",
    "        print(\"\\nMatrice x (assignations) :\")\n",
    "        x_matrix = [[x[i, j].X for j in range(4)] for i in range(22)]\n",
    "        for i, row in enumerate(x_matrix):\n",
    "            print(f\"i={i}: {row}\")\n",
    "    else:\n",
    "        print(\"Aucune solution optimale trouvée.\")\n",
    "    # Extract the groups of bricks\n",
    "    groups = [[] for _ in range(4)]\n",
    "    for i in range(22):\n",
    "        for j in range(4):\n",
    "            if x[i, j].X > 0.5:\n",
    "                groups[j].append(i + 1)\n",
    "    return groups, m, z.X\n",
    "\n",
    "\n",
    "roups, m, max_dist = optimize_brick_distances(distances_to_rp, bricks_loads)\n",
    "\n"
   ]
  },
  {
   "cell_type": "markdown",
   "metadata": {},
   "source": [
    "# Epsilon constraint method\n",
    "\n",
    "## Algorithme pour l'optimisation"
   ]
  },
  {
   "cell_type": "code",
   "execution_count": 16,
   "metadata": {},
   "outputs": [],
   "source": [
    "\n",
    "def epsilon_constraint_scheme(bricks, index_values, initial_bricks, distance_to_rp, bricks_loads, workload_range=[0.8, 1.2]):\n",
    "    \"\"\"\n",
    "    Implement the epsilon constraint scheme to find the set of all non-dominant solutions.\n",
    "    \"\"\"\n",
    "    # Number of bricks and groups\n",
    "    num_bricks = len(bricks)\n",
    "    num_groups = len(initial_bricks)\n",
    "\n",
    "    non_dominant_solutions = []\n",
    "\n",
    "    # Start with epsilon as infinity\n",
    "    epsilon = np.inf\n",
    "\n",
    "    while epsilon > 0:\n",
    "        # Create a new model\n",
    "        # print(\"epsilon : \", epsilon)\n",
    "        m = Model(\"EpsilonConstraint\")\n",
    "\n",
    "        # Create variables: x[i, j] = 1 if brick i-1 is assigned to group j, 0 otherwise\n",
    "        x = m.addVars(num_bricks, num_groups, vtype=GRB.BINARY, name=\"x\")\n",
    "\n",
    "        # Create a variable for the maximum new brick value\n",
    "        max_new_value = m.addVar(vtype=GRB.CONTINUOUS, name=\"max_new_value\")\n",
    "\n",
    "        # Add constraints: each brick must be assigned to exactly one group\n",
    "        for i in range(num_bricks):\n",
    "            m.addConstr(quicksum(x[i, j] for j in range(num_groups)) == 1)\n",
    "\n",
    "        # Add constraints: the sum of index values in each group must be between 0.8 and 1.2\n",
    "        for j in range(num_groups):\n",
    "            m.addConstr(quicksum(index_values[i] * x[i, j] for i in range(num_bricks)) >= workload_range[0])\n",
    "            m.addConstr(quicksum(index_values[i] * x[i, j] for i in range(num_bricks)) <= workload_range[1])\n",
    "\n",
    "        # Add constraints to ensure max_new_value is greater than or equal to the new brick value for each group\n",
    "        for j in range(num_groups):\n",
    "            new_brick_value = quicksum(index_values[brick] * x[brick, j] for brick in range(num_bricks) if brick + 1 not in initial_bricks[j]['assigned_bricks'])\n",
    "            m.addConstr(max_new_value >= new_brick_value)\n",
    "\n",
    "        # Add epsilon constraint for the distance objective\n",
    "        for j in range(num_groups):\n",
    "            m.addConstr(quicksum(distance_to_rp[j, i] * x[i, j] for i in range(num_bricks)) <= epsilon)\n",
    "\n",
    "        # Minimize the maximum new brick value\n",
    "        m.setObjective(max_new_value, GRB.MINIMIZE)\n",
    "        \n",
    "        m.params.Outputflag = 0\n",
    "\n",
    "        # Optimize the model\n",
    "        m.optimize()\n",
    "\n",
    "        # Extract the solution\n",
    "        if m.status == GRB.OPTIMAL:\n",
    "            groups = [[] for _ in range(num_groups)]\n",
    "            for i in range(num_bricks):\n",
    "                for j in range(num_groups):\n",
    "                    if x[i, j].x > 0.5:\n",
    "                        groups[j].append(i + 1)\n",
    "            # print(\"Solution optimale trouvée pour cet epsilon :\", groups)\n",
    "            non_dominant_solutions.append((groups, max_new_value.x, epsilon))\n",
    "\n",
    "            # Update epsilon to the new value of the constraint minus 0.01\n",
    "            epsilon = np.max([quicksum(distance_to_rp[j, i] * x[i, j] for i in range(num_bricks)).getValue() for j in range(num_groups)]) - 0.01\n",
    "        else:\n",
    "            break\n",
    "\n",
    "    return non_dominant_solutions\n"
   ]
  },
  {
   "cell_type": "code",
   "execution_count": 17,
   "metadata": {},
   "outputs": [
    {
     "name": "stdout",
     "output_type": "stream",
     "text": [
      "Epsilon: inf, Max New Brick Value: 0.0974999999999997\n",
      "Group 1: [4, 5, 6, 7, 8, 15]\n",
      "Group 2: [10, 11, 14]\n",
      "Group 3: [9, 13, 16, 17, 18]\n",
      "Group 4: [1, 2, 3, 12, 19, 20, 21, 22]\n",
      "Epsilon: 164.59000000000003, Max New Brick Value: 0.0975\n",
      "Group 1: [4, 5, 6, 7, 8, 11, 15]\n",
      "Group 2: [10, 12, 14]\n",
      "Group 3: [9, 13, 16, 17, 18]\n",
      "Group 4: [1, 2, 3, 19, 20, 21, 22]\n",
      "Epsilon: 124.73, Max New Brick Value: 0.1696\n",
      "Group 1: [4, 5, 6, 7, 8, 11, 12, 15]\n",
      "Group 2: [10, 14, 20]\n",
      "Group 3: [9, 13, 16, 17, 18]\n",
      "Group 4: [1, 2, 3, 19, 21, 22]\n",
      "Epsilon: 101.52, Max New Brick Value: 0.1696\n",
      "Group 1: [4, 5, 6, 7, 8, 11, 12, 15]\n",
      "Group 2: [10, 14, 19]\n",
      "Group 3: [9, 13, 16, 17, 18]\n",
      "Group 4: [1, 2, 3, 20, 21, 22]\n",
      "Epsilon: 99.33, Max New Brick Value: 0.1698\n",
      "Group 1: [4, 5, 6, 7, 8, 11, 12, 15]\n",
      "Group 2: [10, 13, 14]\n",
      "Group 3: [9, 16, 17, 18, 21]\n",
      "Group 4: [1, 2, 3, 19, 20, 22]\n",
      "Epsilon: 99.3, Max New Brick Value: 0.18430000000000002\n",
      "Group 1: [4, 5, 6, 7, 8, 11, 13, 15]\n",
      "Group 2: [10, 14, 19]\n",
      "Group 3: [9, 12, 16, 17, 18, 20]\n",
      "Group 4: [1, 2, 3, 21, 22]\n",
      "Epsilon: 76.11999999999999, Max New Brick Value: 0.4115\n",
      "Group 1: [4, 5, 6, 7, 8, 11, 12, 13, 19]\n",
      "Group 2: [1, 14, 21]\n",
      "Group 3: [9, 10, 16, 17, 18, 20]\n",
      "Group 4: [2, 3, 15, 22]\n",
      "Epsilon: 74.99999999999999, Max New Brick Value: 0.4115\n",
      "Group 1: [3, 4, 5, 6, 7, 8, 19, 21]\n",
      "Group 2: [10, 12, 14]\n",
      "Group 3: [2, 9, 11, 13, 16, 17, 18, 20]\n",
      "Group 4: [1, 15, 22]\n",
      "Epsilon: 70.30999999999999, Max New Brick Value: 0.4115\n",
      "Group 1: [2, 4, 5, 6, 7, 8, 20, 21]\n",
      "Group 2: [10, 12, 14, 18]\n",
      "Group 3: [3, 9, 11, 13, 16, 17, 19]\n",
      "Group 4: [1, 15, 22]\n",
      "Epsilon: 69.43999999999998, Max New Brick Value: 0.4115\n",
      "Group 1: [2, 4, 5, 6, 7, 8, 20, 21]\n",
      "Group 2: [11, 12, 13, 14, 19]\n",
      "Group 3: [3, 9, 10, 16, 17, 18]\n",
      "Group 4: [1, 15, 22]\n",
      "Epsilon: 66.53999999999999, Max New Brick Value: 0.8176999999999999\n",
      "Group 1: [1, 2, 4, 5, 6, 7, 19, 21]\n",
      "Group 2: [8, 10, 11, 12, 13, 17, 18, 20]\n",
      "Group 3: [9, 15, 16]\n",
      "Group 4: [3, 14, 22]\n",
      "Epsilon: 64.98, Max New Brick Value: 0.8176999986171722\n",
      "Group 1: [7, 15, 18, 19, 20, 21]\n",
      "Group 2: [1, 4, 6, 8, 9, 10, 13]\n",
      "Group 3: [2, 5, 11, 12, 16, 17]\n",
      "Group 4: [3, 14, 22]\n",
      "Epsilon: 62.91, Max New Brick Value: 0.8176999986171722\n",
      "Group 1: [5, 6, 7, 13, 15, 18, 20, 21]\n",
      "Group 2: [8, 9, 10, 12, 17, 19]\n",
      "Group 3: [1, 2, 4, 11, 16]\n",
      "Group 4: [3, 14, 22]\n",
      "Epsilon: 62.76, Max New Brick Value: 0.8176999986171722\n",
      "Group 1: [5, 6, 7, 8, 13, 15, 20, 21]\n",
      "Group 2: [9, 10, 11, 12, 17, 19]\n",
      "Group 3: [1, 2, 4, 16, 18]\n",
      "Group 4: [3, 14, 22]\n",
      "Epsilon: 61.33, Max New Brick Value: 0.8176999999999999\n",
      "Group 1: [6, 7, 15, 19, 20, 21]\n",
      "Group 2: [2, 10, 11, 12, 16]\n",
      "Group 3: [1, 4, 5, 8, 9, 13, 17, 18]\n",
      "Group 4: [3, 14, 22]\n",
      "Epsilon: 61.13999999999999, Max New Brick Value: 0.8176999999999999\n",
      "Group 1: [1, 4, 6, 8, 15, 19, 20]\n",
      "Group 2: [7, 11, 12, 16, 18, 21]\n",
      "Group 3: [2, 5, 9, 10, 13, 17]\n",
      "Group 4: [3, 14, 22]\n",
      "Epsilon: 58.199999999999996, Max New Brick Value: 0.8176999999999999\n",
      "Group 1: [1, 2, 4, 6, 9, 20]\n",
      "Group 2: [5, 8, 10, 11, 12, 13, 17, 18]\n",
      "Group 3: [7, 15, 16, 19, 21]\n",
      "Group 4: [3, 14, 22]\n",
      "Epsilon: 57.65999999999999, Max New Brick Value: 0.8177\n",
      "Group 1: [2, 4, 5, 6, 7, 9, 19]\n",
      "Group 2: [10, 11, 13, 15, 20, 21]\n",
      "Group 3: [1, 8, 12, 16, 17, 18]\n",
      "Group 4: [3, 14, 22]\n",
      "Epsilon: 56.65, Max New Brick Value: 0.8176999999999999\n",
      "Group 1: [1, 2, 4, 6, 7, 9, 21]\n",
      "Group 2: [5, 8, 10, 11, 12, 13, 17, 18]\n",
      "Group 3: [15, 16, 19, 20]\n",
      "Group 4: [3, 14, 22]\n"
     ]
    }
   ],
   "source": [
    "\n",
    "# Example usage\n",
    "non_dominant_solutions = epsilon_constraint_scheme(bricks, index_values, initial_bricks, distances_to_rp, bricks_loads)\n",
    "\n",
    "# Print the non-dominant solutions\n",
    "for solution in non_dominant_solutions:\n",
    "    groups, max_new_value, epsilon = solution\n",
    "    print(f\"Epsilon: {epsilon}, Max New Brick Value: {max_new_value}\")\n",
    "    for j in range(len(groups)):\n",
    "        print(f\"Group {j+1}: {groups[j]}\")"
   ]
  },
  {
   "cell_type": "code",
   "execution_count": 18,
   "metadata": {},
   "outputs": [
    {
     "name": "stdout",
     "output_type": "stream",
     "text": [
      "[np.float64(164.6), np.float64(124.74000000000001), np.float64(101.53), np.float64(99.34), np.float64(99.31), np.float64(76.13), np.float64(75.00999999999999), np.float64(70.32), np.float64(69.44999999999999), np.float64(66.55), np.float64(64.99000000000001), np.float64(62.919999999999995), np.float64(62.769999999999996), np.float64(61.339999999999996), np.float64(61.150000000000006), np.float64(58.209999999999994), np.float64(57.66999999999999), np.float64(56.66), np.float64(56.0)]\n",
      "[np.float64(171.88), np.float64(168.05), np.float64(164.6), np.float64(146.93), np.float64(144.84), np.float64(124.74000000000001), np.float64(101.53), np.float64(99.34), np.float64(98.97), np.float64(96.96000000000001), np.float64(93.16999999999999), np.float64(91.94999999999999), np.float64(88.19), np.float64(83.88), np.float64(78.80000000000001), np.float64(75.00999999999999), np.float64(73.97999999999999), np.float64(73.74), np.float64(70.25999999999999), np.float64(69.54), np.float64(68.02), np.float64(67.33), np.float64(65.6), np.float64(65.54), np.float64(63.36), np.float64(61.54999999999999), np.float64(61.41), np.float64(61.339999999999996), np.float64(61.11999999999999), np.float64(60.38), np.float64(60.05), np.float64(59.74), np.float64(59.36), np.float64(58.589999999999996)]\n",
      "[np.float64(197.0), np.float64(155.8), np.float64(152.35000000000002), np.float64(148.67000000000002), np.float64(137.65), np.float64(135.03), np.float64(132.84), np.float64(124.74000000000001), np.float64(101.53), np.float64(99.34), np.float64(96.13), np.float64(88.19), np.float64(83.88), np.float64(78.80000000000001), np.float64(78.22999999999999), np.float64(76.89), np.float64(72.37), np.float64(69.11999999999999), np.float64(68.13), np.float64(63.86), np.float64(59.959999999999994), np.float64(59.940000000000005), np.float64(59.74)]\n"
     ]
    },
    {
     "data": {
      "image/png": "[encoded data removed]",
      "text/plain": [
       "<Figure size 1000x600 with 1 Axes>"
      ]
     },
     "metadata": {},
     "output_type": "display_data"
    }
   ],
   "source": [
    "import matplotlib.pyplot as plt\n",
    "\n",
    "plt.figure(figsize=(10, 6))\n",
    "\n",
    "for workload_range,color in zip([(0.8,1.2),(0.85,1.15),(0.9,1.1)],[\"tab:blue\",\"tab:orange\",\"tab:green\"]):\n",
    "    \n",
    "    non_dominant_solutions = epsilon_constraint_scheme(bricks, index_values, initial_bricks, distances_to_rp, bricks_loads, workload_range=workload_range)\n",
    "    \n",
    "    \n",
    "    # Extract the max_new_value and epsilon from non_dominant_solutions\n",
    "    max_new_values = [solution[1] for solution in non_dominant_solutions]\n",
    "    epsilons = [solution[2] for solution in non_dominant_solutions]\n",
    "    # Calculate the max sum of distances for each solution\n",
    "    max_sum_distances = []\n",
    "    for solution in non_dominant_solutions:\n",
    "        groups = solution[0]\n",
    "        max_sum_distance = np.max( [np.sum( [distances_to_rp[j, brick-1] for brick in group] ) for j, group in enumerate(groups) ])\n",
    "        max_sum_distances.append(max_sum_distance)\n",
    "    print( max_sum_distances)\n",
    "\n",
    "    # Create the second plot\n",
    "    plt.scatter(max_new_values, max_sum_distances, color=color)\n",
    "    plt.plot(max_new_values, max_sum_distances, color=color, linestyle='--')\n",
    "    plt.xlabel('Max New Brick Value')\n",
    "    plt.ylabel('Max Sum of Distances for a Group')\n",
    "    plt.title('Solutions in the Space of Max New Brick Value and Max Sum of Distances')\n",
    "    plt.grid(True)\n",
    "plt.show()"
   ]
  }
 ],
 "metadata": {
  "kernelspec": {
   "display_name": "venv",
   "language": "python",
   "name": "python3"
  },
  "language_info": {
   "codemirror_mode": {
    "name": "ipython",
    "version": 3
   },
   "file_extension": ".py",
   "mimetype": "text/x-python",
   "name": "python",
   "nbconvert_exporter": "python",
   "pygments_lexer": "ipython3",
   "version": "3.12.4"
  }
 },
 "nbformat": 4,
 "nbformat_minor": 2
}
