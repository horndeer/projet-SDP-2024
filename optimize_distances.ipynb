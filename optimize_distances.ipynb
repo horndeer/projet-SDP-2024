{
 "cells": [
  {
   "cell_type": "code",
   "execution_count": 57,
   "metadata": {},
   "outputs": [],
   "source": [
    "import gurobipy as gp\n",
    "import numpy as np"
   ]
  },
  {
   "cell_type": "code",
   "execution_count": 58,
   "metadata": {},
   "outputs": [
    {
     "name": "stdout",
     "output_type": "stream",
     "text": [
      "(22, 4)\n"
     ]
    },
    {
     "data": {
      "text/plain": [
       "array([[16.16, 24.09, 24.29, 21.12],\n",
       "       [19.  , 26.47, 27.22, 17.33],\n",
       "       [25.29, 32.5 , 33.41, 12.25],\n",
       "       [ 0.  ,  7.94,  8.29, 36.12],\n",
       "       [ 3.07,  6.45,  7.55, 37.37],\n",
       "       [ 1.22,  7.51,  8.17, 36.29],\n",
       "       [ 2.8 , 10.3 , 10.92, 33.5 ],\n",
       "       [ 2.87,  5.07,  5.65, 38.8 ],\n",
       "       [ 3.8 ,  8.02,  7.37, 38.16],\n",
       "       [12.35,  4.51,  4.37, 48.27],\n",
       "       [11.11,  3.51,  2.97, 47.14],\n",
       "       [21.99, 22.01, 24.1 , 39.86],\n",
       "       [ 8.82,  3.28,  5.38, 43.31],\n",
       "       [ 7.94,  0.  ,  2.1 , 43.75],\n",
       "       [ 9.34,  2.32,  1.11, 45.43],\n",
       "       [ 8.29,  2.1 ,  0.  , 44.4 ],\n",
       "       [ 7.28,  2.4 ,  1.08, 43.4 ],\n",
       "       [ 7.55,  0.77,  1.54, 43.52],\n",
       "       [11.13, 18.41, 19.24, 25.4 ],\n",
       "       [17.49, 23.44, 24.76, 23.21],\n",
       "       [11.03, 18.94, 19.26, 25.43],\n",
       "       [36.12, 43.75, 44.4 ,  0.  ]])"
      ]
     },
     "execution_count": 58,
     "metadata": {},
     "output_type": "execute_result"
    }
   ],
   "source": [
    "distance_to_bricks = np.loadtxt('brick_rp_distances.csv', delimiter=',', skiprows=1)\n",
    "distance_to_bricks = distance_to_bricks[:,1:]\n",
    "print(distance_to_bricks.shape)\n",
    "distance_to_bricks"
   ]
  },
  {
   "cell_type": "code",
   "execution_count": 59,
   "metadata": {},
   "outputs": [
    {
     "data": {
      "text/plain": [
       "array([[0.1609],\n",
       "       [0.1164],\n",
       "       [0.1026],\n",
       "       [0.1516],\n",
       "       [0.0939],\n",
       "       [0.132 ],\n",
       "       [0.0687],\n",
       "       [0.093 ],\n",
       "       [0.2116],\n",
       "       [0.2529],\n",
       "       [0.0868],\n",
       "       [0.0828],\n",
       "       [0.0975],\n",
       "       [0.8177],\n",
       "       [0.4115],\n",
       "       [0.3795],\n",
       "       [0.071 ],\n",
       "       [0.0427],\n",
       "       [0.1043],\n",
       "       [0.0997],\n",
       "       [0.1698],\n",
       "       [0.2531]])"
      ]
     },
     "execution_count": 59,
     "metadata": {},
     "output_type": "execute_result"
    }
   ],
   "source": [
    "index_values = np.loadtxt('bricks_index_values.csv', delimiter=',', skiprows=1)\n",
    "index_values = index_values[:,1:]\n",
    "index_values"
   ]
  },
  {
   "cell_type": "code",
   "execution_count": null,
   "metadata": {},
   "outputs": [],
   "source": []
  },
  {
   "cell_type": "code",
   "execution_count": 61,
   "metadata": {},
   "outputs": [
    {
     "name": "stdout",
     "output_type": "stream",
     "text": [
      "[[-0. -0. -0.  1.]\n",
      " [-0. -0. -0.  1.]\n",
      " [-0. -0. -0.  1.]\n",
      " [ 1. -0. -0. -0.]\n",
      " [ 1. -0. -0. -0.]\n",
      " [ 1. -0. -0. -0.]\n",
      " [ 1. -0. -0. -0.]\n",
      " [ 1. -0. -0. -0.]\n",
      " [ 1. -0. -0. -0.]\n",
      " [-0. -0.  1. -0.]\n",
      " [-0.  1.  0. -0.]\n",
      " [ 1. -0. -0. -0.]\n",
      " [-0.  1. -0. -0.]\n",
      " [-0.  1. -0. -0.]\n",
      " [-0. -0.  1. -0.]\n",
      " [-0. -0.  1. -0.]\n",
      " [-0.  0.  1. -0.]\n",
      " [-0.  1.  0. -0.]\n",
      " [ 1. -0. -0. -0.]\n",
      " [ 1. -0. -0.  0.]\n",
      " [-0. -0. -0.  1.]\n",
      " [-0. -0. -0.  1.]]\n"
     ]
    }
   ],
   "source": [
    "\n",
    "# Instanciation du modèle\n",
    "\n",
    "def optimize_distance1(distance_to_bricks, index_values, workload_range=[0.8, 1.2]):\n",
    "    '''try to minimize the total sum of the distances'''\n",
    "    m = gp.Model(\"Simple PL modelling\")\n",
    "    # Création de 2 variables continues v0 et v1\n",
    "    v = m.addMVar(shape=distance_to_bricks.shape, vtype=gp.GRB.BINARY, name=\"v\")\n",
    "\n",
    "    m.update()\n",
    "\n",
    "    m.addConstr( index_values.T @ v <= np.ones((1, distance_to_bricks.shape[1])) * workload_range[1] )\n",
    "    m.addConstr( index_values.T @ v >= np.ones((1, distance_to_bricks.shape[1])) * workload_range[0] )\n",
    "    m.addConstr( v @ np.ones(distance_to_bricks.shape[1]) == np.ones(distance_to_bricks.shape[0]) )\n",
    "\n",
    "    m.update()\n",
    "\n",
    "    m.setObjective( v * distance_to_bricks @ np.ones(distance_to_bricks.shape[1]) @ np.ones(distance_to_bricks.shape[0]) , gp.GRB.MINIMIZE)\n",
    "\n",
    "    m.update()\n",
    "        \n",
    "    m.params.outputflag = 0\n",
    "    # # Résolution du PL\n",
    "    m.optimize()\n",
    "    return v.X\n",
    "\n",
    "print(optimize_distance1(distance_to_bricks, index_values))"
   ]
  }
 ],
 "metadata": {
  "kernelspec": {
   "display_name": "venv",
   "language": "python",
   "name": "python3"
  },
  "language_info": {
   "codemirror_mode": {
    "name": "ipython",
    "version": 3
   },
   "file_extension": ".py",
   "mimetype": "text/x-python",
   "name": "python",
   "nbconvert_exporter": "python",
   "pygments_lexer": "ipython3",
   "version": "3.12.4"
  }
 },
 "nbformat": 4,
 "nbformat_minor": 2
}
